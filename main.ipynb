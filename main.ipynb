{
 "cells": [
  {
   "cell_type": "markdown",
   "metadata": {},
   "source": [
    "# Segragate file\n",
    "- Blast only allow 1,000,000 size\n",
    "- Thus seperate it to several files"
   ]
  },
  {
   "cell_type": "code",
   "execution_count": null,
   "metadata": {},
   "outputs": [],
   "source": [
    "import re\n",
    "\n",
    "path = \"LWW016_all.fas\"\n",
    "\n",
    "def read_fas_as_list(path):\n",
    "    pattern = r\"[>][^>]+\"\n",
    "    with open (path,\"r\") as f:\n",
    "        whole_data = f.read()\n",
    "        return re.findall(pattern,whole_data)\n",
    "\n",
    "def part_folder (num = 500000):\n",
    "    datalist = read_fas_as_list(path)\n",
    "    count = len(datalist[0])\n",
    "    item_index = 0\n",
    "    folder_num = 1\n",
    "    temptxt = \"\"\n",
    "\n",
    "    while item_index < len(datalist):\n",
    "        count += len(datalist[item_index])\n",
    "        if count < num:\n",
    "            temptxt += datalist[item_index]\n",
    "            item_index += 1\n",
    "        else:\n",
    "            newpath = path[:-4] + \"_\" + str(folder_num) + \".fas\"\n",
    "            with open (newpath, \"w\") as f:\n",
    "                f.write(temptxt)\n",
    "            folder_num += 1\n",
    "            count = len(datalist[item_index])\n",
    "            temptxt = datalist[item_index]\n",
    "            item_index += 1\n",
    "\n",
    "    newpath = path[:-4] + \"_\" + str(folder_num) + \".fas\"\n",
    "    with open (newpath, \"w\") as f:\n",
    "                f.write(temptxt)\n",
    "\n",
    "part_folder ()"
   ]
  },
  {
   "cell_type": "code",
   "execution_count": null,
   "metadata": {},
   "outputs": [],
   "source": [
    "path = \"LWW016_all_1.fas\"\n",
    "def read_fas_as_list(path):\n",
    "    pattern = r\"[>][^>]+\"\n",
    "    with open (path,\"r\") as f:\n",
    "        whole_data = f.read()\n",
    "        return re.findall(pattern,whole_data)\n",
    "\n",
    "read_fas_as_list(path)"
   ]
  },
  {
   "cell_type": "code",
   "execution_count": 187,
   "metadata": {},
   "outputs": [],
   "source": [
    "import json\n",
    "import pandas as pd\n",
    "\n",
    "file_name = \"blastoutput.json\"\n",
    "\n",
    "query = []\n",
    "accesssion = []\n",
    "identity = []\n",
    "sciname = []\n",
    "title = []\n",
    "\n",
    "\n",
    "with open(file_name) as obj:\n",
    "    getDatas = json.load(obj)\n",
    "\n",
    "for getData in getDatas:\n",
    "    for item in getDatas[getData]:\n",
    "        query.append((item['report']['results']['search']['query_title']))\n",
    "        accesssion.append(item['report']['results']['search']['hits'][0]['description'][0]['accession'])\n",
    "        sciname.append(item['report']['results']['search']['hits'][0]['description'][0]['sciname'])\n",
    "        title.append(item['report']['results']['search']['hits'][0]['description'][0]['title'])\n",
    "        identity.append(item['report']['results']['search']['hits'][0][\"hsps\"][0]['identity']/10)\n",
    "\n",
    "\n",
    "df = pd.DataFrame([query, accesssion, identity, sciname, title]).transpose()\n",
    "df.columns = ['query', 'accesssion', 'identity', 'sciname', 'title']\n",
    "df.to_csv(\"output.csv\",index = False)"
   ]
  }
 ],
 "metadata": {
  "interpreter": {
   "hash": "d2c1845aa41483b05395b2444e9cc1d1db12b4e36041ff17c25c8710311460d9"
  },
  "kernelspec": {
   "display_name": "Python 3.10.0 64-bit",
   "name": "python3"
  },
  "language_info": {
   "codemirror_mode": {
    "name": "ipython",
    "version": 3
   },
   "file_extension": ".py",
   "mimetype": "text/x-python",
   "name": "python",
   "nbconvert_exporter": "python",
   "pygments_lexer": "ipython3",
   "version": "3.10.0"
  },
  "orig_nbformat": 4
 },
 "nbformat": 4,
 "nbformat_minor": 2
}
