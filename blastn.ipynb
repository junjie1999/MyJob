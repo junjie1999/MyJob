{
 "cells": [
  {
   "cell_type": "markdown",
   "metadata": {},
   "source": [
    "# Blastn faster (sort file reversed)"
   ]
  },
  {
   "cell_type": "code",
   "execution_count": 2,
   "metadata": {},
   "outputs": [],
   "source": [
    "fastadir = \"data\\\\fasta_file\\\\output\"\n",
    "outxmldir = \"data\\\\blast_result\\\\output\"\n",
    "\n",
    "#Blastn function\n",
    "\n",
    "from Bio.Blast import NCBIWWW\n",
    "\n",
    "def Blast_fasta(path,outpath):\n",
    "\n",
    "    with open (path) as obj:\n",
    "        fasta_file = obj.read()\n",
    "\n",
    "    blast_result = NCBIWWW.qblast(\"blastn\", \"nt\", fasta_file, megablast=True, hitlist_size=10)\n",
    "    out = blast_result.read()\n",
    "\n",
    "    with open(outpath, \"w\") as output_xml:\n",
    "        output_xml.write(out)\n",
    "    blast_result.close()"
   ]
  },
  {
   "cell_type": "code",
   "execution_count": 3,
   "metadata": {},
   "outputs": [
    {
     "name": "stdout",
     "output_type": "stream",
     "text": [
      "LWW016_all_100_out.xml existed\n",
      "LWW016_all_10_out.xml existed\n",
      "LWW016_all_1_out.xml existed\n"
     ]
    }
   ],
   "source": [
    "#Run Blastn with \n",
    "\n",
    "import re\n",
    "outfilelist = []\n",
    "outfile = os.listdir(outxmldir)\n",
    "pattern = r\"[_][0-9]+\"\n",
    "for item in outfile:\n",
    "    result = re.search(pattern,item)\n",
    "    if result:\n",
    "        outfilelist.append(item[result.start():result.end()])\n",
    "        print(item + \" existed\")\n",
    "\n",
    "templist = []\n",
    "import os\n",
    "filelist = os.listdir(fastadir)\n",
    "filelist = sorted(filelist,reverse=False) #reversed\n",
    "for item in filelist:\n",
    "    result = (re.search(pattern,item))\n",
    "    temp = item[result.start():result.end()]\n",
    "    if temp in outfilelist:\n",
    "        pass\n",
    "    else:\n",
    "        path = fastadir + \"\\\\\" + item\n",
    "        outpath = outxmldir + \"\\\\\" + item[:-4]+ \"_out.xml\"\n",
    "        try:\n",
    "            Blast_fasta(path,outpath)\n",
    "            print(item + \" Blastn success!\")\n",
    "            print(\"-\"*10)\n",
    "        except:\n",
    "            print(item + \" Blastn failed!\")\n",
    "            pass"
   ]
  }
 ],
 "metadata": {
  "interpreter": {
   "hash": "2217992099559a26038b70e11f392c50e16e825ff225ac028cf0711693f69c89"
  },
  "kernelspec": {
   "display_name": "Python 3.8.5 64-bit",
   "language": "python",
   "name": "python3"
  },
  "language_info": {
   "codemirror_mode": {
    "name": "ipython",
    "version": 3
   },
   "file_extension": ".py",
   "mimetype": "text/x-python",
   "name": "python",
   "nbconvert_exporter": "python",
   "pygments_lexer": "ipython3",
   "version": "3.8.5"
  },
  "orig_nbformat": 4
 },
 "nbformat": 4,
 "nbformat_minor": 2
}
