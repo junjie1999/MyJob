{
 "cells": [
  {
   "cell_type": "code",
   "execution_count": 163,
   "metadata": {},
   "outputs": [],
   "source": [
    "import xml.etree.ElementTree as  ET\n",
    "import pandas as pd\n",
    "\n",
    "query = []\n",
    "accession = []\n",
    "identity = []\n",
    "sciname = []\n",
    "\n",
    "\n",
    "path = \"blast_output.xml\"\n",
    "for event, item in ET.iterparse(path,events=(\"start\", \"end\")):\n",
    "    if item.tag == 'Iteration_query-def' and event == \"start\":\n",
    "        query.append(item.text)\n",
    "    if item.tag == 'Hit' and event == \"start\":\n",
    "        if item[0].text == '1':\n",
    "            accession.append(item[3].text) #accession\n",
    "            identity.append(int(item[5][0][10].text)/int(item[5][0][13].text))\n",
    "            sciname.append(item[2].text)\n",
    "\n",
    "df = pd.DataFrame([query, accesssion, identity, sciname]).transpose()\n",
    "df.columns = ['query', 'accesssion', 'identity', 'sciname']\n",
    "df.to_csv(\"output.csv\",index = False)"
   ]
  },
  {
   "cell_type": "code",
   "execution_count": 1,
   "metadata": {},
   "outputs": [],
   "source": [
    "from Bio.Blast import NCBIWWW\n",
    "\n",
    "path = \"data\\\\fasta_file\\\\output\\\\LWW016_all_1.fas\"\n",
    "outpath = \"data\\\\blast_result\\\\blast_output.xml\"\n",
    "\n",
    "def Blast_fasta(path,outpath):\n",
    "\n",
    "    with open (path) as obj:\n",
    "        fasta_file = obj.read()\n",
    "\n",
    "    blast_result = NCBIWWW.qblast(\"blastn\", \"nt\", fasta_file, megablast=True, hitlist_size=10)\n",
    "    out = blast_result.read()\n",
    "\n",
    "    with open(outpath, \"w\") as output_xml:\n",
    "        output_xml.write(out)\n",
    "\n",
    "    blast_result.close()"
   ]
  },
  {
   "cell_type": "code",
   "execution_count": 5,
   "metadata": {},
   "outputs": [],
   "source": [
    "import os\n",
    "\n",
    "filelist = os.listdir(\"data\\\\fasta_file\\\\output\")\n",
    "\n",
    "for item in filelist:\n",
    "    path = \"data\\\\fasta_file\\\\output\\\\\" + item\n",
    "    outpath = \"data\\\\blast_result\\\\output\\\\\" + item[:-4]+ \"_out.xml\"\n",
    "    try:\n",
    "        Blast_fasta(path,outpath)\n",
    "    except:\n",
    "        pass"
   ]
  },
  {
   "cell_type": "code",
   "execution_count": 23,
   "metadata": {},
   "outputs": [
    {
     "name": "stdout",
     "output_type": "stream",
     "text": [
      "117\n"
     ]
    }
   ],
   "source": [
    "import re\n",
    "outfilelist = []\n",
    "outfile = os.listdir(\"data\\\\blast_result\\\\output\")\n",
    "pattern = r\"[_][0-9]+\"\n",
    "for item in outfile:\n",
    "    result = re.search(pattern,item)\n",
    "    if result:\n",
    "        outfilelist.append(item[result.start():result.end()])\n",
    "\n",
    "templist = []\n",
    "import os\n",
    "filelist = os.listdir(\"data\\\\fasta_file\\\\output\")\n",
    "for item in filelist:\n",
    "    result = (re.search(pattern,item))\n",
    "    temp = item[result.start():result.end()]\n",
    "    if temp in outfilelist:\n",
    "        pass\n",
    "    else:\n",
    "        path = \"data\\\\fasta_file\\\\output\\\\\" + item\n",
    "        outpath = \"data\\\\blast_result\\\\output\\\\\" + item[:-4]+ \"_out.xml\"\n",
    "        try:\n",
    "            Blast_fasta(path,outpath)\n",
    "            print(item + \" Blastn success!\")\n",
    "            print(\"-\"*10)\n",
    "        except:\n",
    "            pass"
   ]
  }
 ],
 "metadata": {
  "interpreter": {
   "hash": "2217992099559a26038b70e11f392c50e16e825ff225ac028cf0711693f69c89"
  },
  "kernelspec": {
   "display_name": "Python 3.8.5 64-bit",
   "name": "python3"
  },
  "language_info": {
   "codemirror_mode": {
    "name": "ipython",
    "version": 3
   },
   "file_extension": ".py",
   "mimetype": "text/x-python",
   "name": "python",
   "nbconvert_exporter": "python",
   "pygments_lexer": "ipython3",
   "version": "3.8.5"
  },
  "orig_nbformat": 4
 },
 "nbformat": 4,
 "nbformat_minor": 2
}
