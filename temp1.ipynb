{
 "cells": [
  {
   "cell_type": "code",
   "execution_count": 68,
   "metadata": {},
   "outputs": [
    {
     "name": "stdout",
     "output_type": "stream",
     "text": [
      "query 206 error\n",
      "query 448 error\n",
      "query 483 error\n",
      "query 678 error\n",
      "query 848 error\n",
      "query 1063 error\n",
      "query 1125 error\n",
      "query 1210 error\n",
      "query 1328 error\n",
      "query 1400 error\n",
      "query 1482 error\n",
      "query 1562 error\n",
      "query 1566 error\n",
      "query 1698 error\n",
      "query 1830 error\n",
      "query 1982 error\n",
      "query 2059 error\n",
      "query 2085 error\n"
     ]
    }
   ],
   "source": [
    "# import xml.etree.ElementTree as  ET\n",
    "# import pandas as pd\n",
    "\n",
    "# query = []\n",
    "# accession = []\n",
    "# identity = []\n",
    "# sciname = []\n",
    "\n",
    "# def get_output_data(path, query, accession, identity, sciname):\n",
    "#     for event, item in ET.iterparse(path,events=(\"start\", \"end\")):\n",
    "#         if item.tag == 'Iteration_query-def' and event == \"start\":\n",
    "#             query.append(item.text)\n",
    "#         if item.tag == 'Hit' and event == \"start\":\n",
    "#             if item[0].text == '1':\n",
    "#                 try:\n",
    "#                     accession.append(item[3].text) #accession\n",
    "#                 except:\n",
    "#                     accession.append(\"asdf\")\n",
    "#                 identity.append(int(item[5][0][10].text)/int(item[5][0][13].text))\n",
    "#                 sciname.append(item[2].text)\n",
    "#     return query, accession, identity, sciname\n",
    "\n",
    "# path = \"C:\\\\Users\\\\junji\\\\Myworkspace\\\\MyJob\\\\data\\\\blast_result\\\\output\\\\LWW016_all_137_out.xml\"\n",
    "# print(get_output_data(path, query, accession, identity, sciname))\n",
    "\n",
    "# # df = pd.DataFrame([query, accession, identity, sciname]).transpose()\n",
    "# # df.columns = ['query', 'accession', 'identity', 'sciname']\n",
    "# # df.to_csv(\"output.csv\",index = False)\n",
    "\n",
    "\n",
    "\n",
    "\n"
   ]
  },
  {
   "cell_type": "code",
   "execution_count": 70,
   "metadata": {},
   "outputs": [
    {
     "name": "stdout",
     "output_type": "stream",
     "text": [
      "1209\n"
     ]
    }
   ],
   "source": [
    "print(len(result_dict))"
   ]
  },
  {
   "cell_type": "code",
   "execution_count": 64,
   "metadata": {},
   "outputs": [
    {
     "ename": "FileNotFoundError",
     "evalue": "[Errno 2] No such file or directory: 'data\\\\blast_result\\\\output\\\\LWW016_all_86_out.xml'",
     "output_type": "error",
     "traceback": [
      "\u001b[1;31m---------------------------------------------------------------------------\u001b[0m",
      "\u001b[1;31mFileNotFoundError\u001b[0m                         Traceback (most recent call last)",
      "\u001b[1;32m~\\AppData\\Local\\Temp/ipykernel_6836/912322927.py\u001b[0m in \u001b[0;36m<module>\u001b[1;34m\u001b[0m\n\u001b[0;32m      6\u001b[0m \u001b[0mcount\u001b[0m \u001b[1;33m=\u001b[0m \u001b[1;36m0\u001b[0m\u001b[1;33m\u001b[0m\u001b[1;33m\u001b[0m\u001b[0m\n\u001b[0;32m      7\u001b[0m \u001b[0mpath\u001b[0m \u001b[1;33m=\u001b[0m \u001b[1;34m\"data\\\\blast_result\\\\output\\\\\"\u001b[0m \u001b[1;33m+\u001b[0m \u001b[1;34m\"LWW016_all_86_out.xml\"\u001b[0m\u001b[1;33m\u001b[0m\u001b[1;33m\u001b[0m\u001b[0m\n\u001b[1;32m----> 8\u001b[1;33m \u001b[1;32mfor\u001b[0m \u001b[0mevent\u001b[0m\u001b[1;33m,\u001b[0m \u001b[0mitem\u001b[0m \u001b[1;32min\u001b[0m \u001b[0mET\u001b[0m\u001b[1;33m.\u001b[0m\u001b[0miterparse\u001b[0m\u001b[1;33m(\u001b[0m\u001b[0mpath\u001b[0m\u001b[1;33m,\u001b[0m\u001b[0mevents\u001b[0m\u001b[1;33m=\u001b[0m\u001b[1;33m(\u001b[0m\u001b[1;34m\"start\"\u001b[0m\u001b[1;33m,\u001b[0m \u001b[1;34m\"end\"\u001b[0m\u001b[1;33m)\u001b[0m\u001b[1;33m)\u001b[0m\u001b[1;33m:\u001b[0m\u001b[1;33m\u001b[0m\u001b[1;33m\u001b[0m\u001b[0m\n\u001b[0m\u001b[0;32m      9\u001b[0m         \u001b[1;32mif\u001b[0m \u001b[0mitem\u001b[0m\u001b[1;33m.\u001b[0m\u001b[0mtag\u001b[0m \u001b[1;33m==\u001b[0m \u001b[1;34m'Iteration_query-def'\u001b[0m \u001b[1;32mand\u001b[0m \u001b[0mevent\u001b[0m \u001b[1;33m==\u001b[0m \u001b[1;34m\"start\"\u001b[0m\u001b[1;33m:\u001b[0m\u001b[1;33m\u001b[0m\u001b[1;33m\u001b[0m\u001b[0m\n\u001b[0;32m     10\u001b[0m             \u001b[0mtemp_query\u001b[0m \u001b[1;33m=\u001b[0m \u001b[0mitem\u001b[0m\u001b[1;33m.\u001b[0m\u001b[0mtext\u001b[0m\u001b[1;33m\u001b[0m\u001b[1;33m\u001b[0m\u001b[0m\n",
      "\u001b[1;32m~\\AppData\\Local\\Programs\\Python\\Python38\\lib\\xml\\etree\\ElementTree.py\u001b[0m in \u001b[0;36miterparse\u001b[1;34m(source, events, parser)\u001b[0m\n\u001b[0;32m   1246\u001b[0m     \u001b[0mclose_source\u001b[0m \u001b[1;33m=\u001b[0m \u001b[1;32mFalse\u001b[0m\u001b[1;33m\u001b[0m\u001b[1;33m\u001b[0m\u001b[0m\n\u001b[0;32m   1247\u001b[0m     \u001b[1;32mif\u001b[0m \u001b[1;32mnot\u001b[0m \u001b[0mhasattr\u001b[0m\u001b[1;33m(\u001b[0m\u001b[0msource\u001b[0m\u001b[1;33m,\u001b[0m \u001b[1;34m\"read\"\u001b[0m\u001b[1;33m)\u001b[0m\u001b[1;33m:\u001b[0m\u001b[1;33m\u001b[0m\u001b[1;33m\u001b[0m\u001b[0m\n\u001b[1;32m-> 1248\u001b[1;33m         \u001b[0msource\u001b[0m \u001b[1;33m=\u001b[0m \u001b[0mopen\u001b[0m\u001b[1;33m(\u001b[0m\u001b[0msource\u001b[0m\u001b[1;33m,\u001b[0m \u001b[1;34m\"rb\"\u001b[0m\u001b[1;33m)\u001b[0m\u001b[1;33m\u001b[0m\u001b[1;33m\u001b[0m\u001b[0m\n\u001b[0m\u001b[0;32m   1249\u001b[0m         \u001b[0mclose_source\u001b[0m \u001b[1;33m=\u001b[0m \u001b[1;32mTrue\u001b[0m\u001b[1;33m\u001b[0m\u001b[1;33m\u001b[0m\u001b[0m\n\u001b[0;32m   1250\u001b[0m \u001b[1;33m\u001b[0m\u001b[0m\n",
      "\u001b[1;31mFileNotFoundError\u001b[0m: [Errno 2] No such file or directory: 'data\\\\blast_result\\\\output\\\\LWW016_all_86_out.xml'"
     ]
    }
   ],
   "source": [
    "result_dict = {}\n",
    "temp_query = \"\"\n",
    "accession = []\n",
    "identity = []\n",
    "sciname = []\n",
    "count = 0\n",
    "path = \"data\\\\blast_result\\\\output\\\\\" + \"LWW016_all_86_out.xml\"\n",
    "for event, item in ET.iterparse(path,events=(\"start\", \"end\")):\n",
    "        if item.tag == 'Iteration_query-def' and event == \"start\":\n",
    "            temp_query = item.text\n",
    "        if item.tag == 'Hit' and event == \"start\":\n",
    "            try:\n",
    "                if item[0].text == '1':\n",
    "                    count+=1\n",
    "                    try:\n",
    "                        result_dict[temp_query] = [item[3].text] #accession\n",
    "                    except:\n",
    "                        pass\n",
    "                    try:\n",
    "                        result_dict[temp_query].append(f\"{(int(item[5][0][10].text)/int(item[5][0][13].text)):.2%}\") #identity\n",
    "                    except:\n",
    "                        pass\n",
    "                    try:\n",
    "                        result_dict[temp_query].append(item[2].text) #sci_name\n",
    "                    except:\n",
    "                        pass\n",
    "            except:\n",
    "                print(\"query \" + str(count) + \" error\")\n",
    "                count+=1\n",
    "                pass"
   ]
  },
  {
   "cell_type": "code",
   "execution_count": 71,
   "metadata": {},
   "outputs": [
    {
     "data": {
      "text/plain": [
       "1266"
      ]
     },
     "execution_count": 71,
     "metadata": {},
     "output_type": "execute_result"
    }
   ],
   "source": [
    "import re\n",
    "\n",
    "def read_fas_as_list(path):\n",
    "    pattern = r\"[>][^>]+\"\n",
    "    with open (path,\"r\") as f:\n",
    "        whole_data = f.read()\n",
    "        return len(re.findall(pattern,whole_data))\n",
    "\n",
    "read_fas_as_list(r\"C:\\Users\\junji\\Myworkspace\\MyJob\\data\\fasta_file\\LWW016_all.fas\")"
   ]
  },
  {
   "cell_type": "code",
   "execution_count": null,
   "metadata": {},
   "outputs": [],
   "source": [
    "a = {}\n",
    "a['asdf'] = []"
   ]
  }
 ],
 "metadata": {
  "interpreter": {
   "hash": "2217992099559a26038b70e11f392c50e16e825ff225ac028cf0711693f69c89"
  },
  "kernelspec": {
   "display_name": "Python 3.8.5 64-bit",
   "name": "python3"
  },
  "language_info": {
   "codemirror_mode": {
    "name": "ipython",
    "version": 3
   },
   "file_extension": ".py",
   "mimetype": "text/x-python",
   "name": "python",
   "nbconvert_exporter": "python",
   "pygments_lexer": "ipython3",
   "version": "3.8.5"
  },
  "orig_nbformat": 4
 },
 "nbformat": 4,
 "nbformat_minor": 2
}
